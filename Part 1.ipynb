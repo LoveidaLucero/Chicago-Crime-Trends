{
 "cells": [
  {
   "cell_type": "markdown",
   "id": "f253d0ca-014e-43c2-9780-0af9106a7a25",
   "metadata": {},
   "source": [
    "# Loveida Lucero"
   ]
  },
  {
   "cell_type": "markdown",
   "id": "d3b4c6c9-3521-4059-beea-cb56b9971350",
   "metadata": {},
   "source": [
    "**Imports**"
   ]
  },
  {
   "cell_type": "code",
   "execution_count": 1,
   "id": "0f145695-9eb6-4c77-92a5-582da96e28e7",
   "metadata": {},
   "outputs": [],
   "source": [
    "import pandas as pd\n",
    "import glob \n",
    "import holidays\n",
    "import datetime as dt\n",
    "from holidays import country_holidays"
   ]
  },
  {
   "cell_type": "markdown",
   "id": "b1c77abb-aee1-4a59-8e9c-f01f41542e85",
   "metadata": {},
   "source": [
    "**Load and Prep Data**"
   ]
  },
  {
   "cell_type": "code",
   "execution_count": 2,
   "id": "54733836-a40d-4b9f-bd5a-604bdb44e2ef",
   "metadata": {},
   "outputs": [
    {
     "name": "stdout",
     "output_type": "stream",
     "text": [
      "Requirement already satisfied: holidays in c:\\users\\lovei\\anaconda3\\envs\\dojo-env\\lib\\site-packages (0.25)\n",
      "Requirement already satisfied: korean-lunar-calendar in c:\\users\\lovei\\anaconda3\\envs\\dojo-env\\lib\\site-packages (from holidays) (0.3.1)\n",
      "Requirement already satisfied: python-dateutil in c:\\users\\lovei\\anaconda3\\envs\\dojo-env\\lib\\site-packages (from holidays) (2.8.2)\n",
      "Requirement already satisfied: six>=1.5 in c:\\users\\lovei\\anaconda3\\envs\\dojo-env\\lib\\site-packages (from python-dateutil->holidays) (1.16.0)\n"
     ]
    }
   ],
   "source": [
    "!pip install holidays"
   ]
  },
  {
   "cell_type": "code",
   "execution_count": 3,
   "id": "2e4d3e47-caf5-469c-a401-045f7945d3fb",
   "metadata": {},
   "outputs": [
    {
     "data": {
      "text/plain": [
       "['Data\\\\Chicago-Crime_2001.csv',\n",
       " 'Data\\\\Chicago-Crime_2002.csv',\n",
       " 'Data\\\\Chicago-Crime_2003.csv',\n",
       " 'Data\\\\Chicago-Crime_2004.csv',\n",
       " 'Data\\\\Chicago-Crime_2005.csv',\n",
       " 'Data\\\\Chicago-Crime_2006.csv',\n",
       " 'Data\\\\Chicago-Crime_2007.csv',\n",
       " 'Data\\\\Chicago-Crime_2008.csv',\n",
       " 'Data\\\\Chicago-Crime_2009.csv',\n",
       " 'Data\\\\Chicago-Crime_2010.csv',\n",
       " 'Data\\\\Chicago-Crime_2011.csv',\n",
       " 'Data\\\\Chicago-Crime_2012.csv',\n",
       " 'Data\\\\Chicago-Crime_2013.csv',\n",
       " 'Data\\\\Chicago-Crime_2014.csv',\n",
       " 'Data\\\\Chicago-Crime_2015.csv',\n",
       " 'Data\\\\Chicago-Crime_2016.csv',\n",
       " 'Data\\\\Chicago-Crime_2017.csv',\n",
       " 'Data\\\\Chicago-Crime_2018.csv',\n",
       " 'Data\\\\Chicago-Crime_2019.csv',\n",
       " 'Data\\\\Chicago-Crime_2020.csv',\n",
       " 'Data\\\\Chicago-Crime_2021.csv',\n",
       " 'Data\\\\Chicago-Crime_2022.csv']"
      ]
     },
     "execution_count": 3,
     "metadata": {},
     "output_type": "execute_result"
    }
   ],
   "source": [
    "# Use glob to get all filepaths that match the pattern \n",
    "crime_files = sorted(glob.glob(\"Data/Chicago-Crime_*.csv\"))\n",
    "crime_files"
   ]
  },
  {
   "cell_type": "code",
   "execution_count": 4,
   "id": "43009e67-5e8d-4f5d-92d0-b9e6fd092435",
   "metadata": {},
   "outputs": [
    {
     "name": "stdout",
     "output_type": "stream",
     "text": [
      "<class 'pandas.core.frame.DataFrame'>\n",
      "Int64Index: 7713109 entries, 0 to 238857\n",
      "Data columns (total 12 columns):\n",
      " #   Column                Dtype  \n",
      "---  ------                -----  \n",
      " 0   ID                    int64  \n",
      " 1   Date                  object \n",
      " 2   Primary Type          object \n",
      " 3   Description           object \n",
      " 4   Location Description  object \n",
      " 5   Arrest                bool   \n",
      " 6   Domestic              bool   \n",
      " 7   Beat                  int64  \n",
      " 8   District              float64\n",
      " 9   Ward                  float64\n",
      " 10  Latitude              float64\n",
      " 11  Longitude             float64\n",
      "dtypes: bool(2), float64(4), int64(2), object(4)\n",
      "memory usage: 662.0+ MB\n"
     ]
    },
    {
     "data": {
      "text/html": [
       "<div>\n",
       "<style scoped>\n",
       "    .dataframe tbody tr th:only-of-type {\n",
       "        vertical-align: middle;\n",
       "    }\n",
       "\n",
       "    .dataframe tbody tr th {\n",
       "        vertical-align: top;\n",
       "    }\n",
       "\n",
       "    .dataframe thead th {\n",
       "        text-align: right;\n",
       "    }\n",
       "</style>\n",
       "<table border=\"1\" class=\"dataframe\">\n",
       "  <thead>\n",
       "    <tr style=\"text-align: right;\">\n",
       "      <th></th>\n",
       "      <th>ID</th>\n",
       "      <th>Date</th>\n",
       "      <th>Primary Type</th>\n",
       "      <th>Description</th>\n",
       "      <th>Location Description</th>\n",
       "      <th>Arrest</th>\n",
       "      <th>Domestic</th>\n",
       "      <th>Beat</th>\n",
       "      <th>District</th>\n",
       "      <th>Ward</th>\n",
       "      <th>Latitude</th>\n",
       "      <th>Longitude</th>\n",
       "    </tr>\n",
       "  </thead>\n",
       "  <tbody>\n",
       "    <tr>\n",
       "      <th>0</th>\n",
       "      <td>1326041</td>\n",
       "      <td>01/01/2001 01:00:00 AM</td>\n",
       "      <td>BATTERY</td>\n",
       "      <td>SIMPLE</td>\n",
       "      <td>RESIDENCE</td>\n",
       "      <td>False</td>\n",
       "      <td>False</td>\n",
       "      <td>1624</td>\n",
       "      <td>16.0</td>\n",
       "      <td>NaN</td>\n",
       "      <td>41.957850</td>\n",
       "      <td>-87.749185</td>\n",
       "    </tr>\n",
       "    <tr>\n",
       "      <th>1</th>\n",
       "      <td>1319931</td>\n",
       "      <td>01/01/2001 01:00:00 PM</td>\n",
       "      <td>BATTERY</td>\n",
       "      <td>SIMPLE</td>\n",
       "      <td>RESIDENCE</td>\n",
       "      <td>False</td>\n",
       "      <td>True</td>\n",
       "      <td>825</td>\n",
       "      <td>8.0</td>\n",
       "      <td>NaN</td>\n",
       "      <td>41.783892</td>\n",
       "      <td>-87.684841</td>\n",
       "    </tr>\n",
       "    <tr>\n",
       "      <th>2</th>\n",
       "      <td>1324743</td>\n",
       "      <td>01/01/2001 01:00:00 PM</td>\n",
       "      <td>GAMBLING</td>\n",
       "      <td>ILLEGAL ILL LOTTERY</td>\n",
       "      <td>STREET</td>\n",
       "      <td>True</td>\n",
       "      <td>False</td>\n",
       "      <td>313</td>\n",
       "      <td>3.0</td>\n",
       "      <td>NaN</td>\n",
       "      <td>41.780412</td>\n",
       "      <td>-87.611970</td>\n",
       "    </tr>\n",
       "    <tr>\n",
       "      <th>3</th>\n",
       "      <td>1310717</td>\n",
       "      <td>01/01/2001 01:00:00 AM</td>\n",
       "      <td>CRIMINAL DAMAGE</td>\n",
       "      <td>TO VEHICLE</td>\n",
       "      <td>STREET</td>\n",
       "      <td>False</td>\n",
       "      <td>False</td>\n",
       "      <td>2424</td>\n",
       "      <td>24.0</td>\n",
       "      <td>NaN</td>\n",
       "      <td>42.012391</td>\n",
       "      <td>-87.678032</td>\n",
       "    </tr>\n",
       "    <tr>\n",
       "      <th>4</th>\n",
       "      <td>1318099</td>\n",
       "      <td>01/01/2001 01:00:00 AM</td>\n",
       "      <td>BATTERY</td>\n",
       "      <td>SIMPLE</td>\n",
       "      <td>RESIDENCE PORCH/HALLWAY</td>\n",
       "      <td>False</td>\n",
       "      <td>True</td>\n",
       "      <td>214</td>\n",
       "      <td>2.0</td>\n",
       "      <td>NaN</td>\n",
       "      <td>41.819538</td>\n",
       "      <td>-87.620020</td>\n",
       "    </tr>\n",
       "  </tbody>\n",
       "</table>\n",
       "</div>"
      ],
      "text/plain": [
       "        ID                    Date     Primary Type          Description  \\\n",
       "0  1326041  01/01/2001 01:00:00 AM          BATTERY               SIMPLE   \n",
       "1  1319931  01/01/2001 01:00:00 PM          BATTERY               SIMPLE   \n",
       "2  1324743  01/01/2001 01:00:00 PM         GAMBLING  ILLEGAL ILL LOTTERY   \n",
       "3  1310717  01/01/2001 01:00:00 AM  CRIMINAL DAMAGE           TO VEHICLE   \n",
       "4  1318099  01/01/2001 01:00:00 AM          BATTERY               SIMPLE   \n",
       "\n",
       "      Location Description  Arrest  Domestic  Beat  District  Ward   Latitude  \\\n",
       "0                RESIDENCE   False     False  1624      16.0   NaN  41.957850   \n",
       "1                RESIDENCE   False      True   825       8.0   NaN  41.783892   \n",
       "2                   STREET    True     False   313       3.0   NaN  41.780412   \n",
       "3                   STREET   False     False  2424      24.0   NaN  42.012391   \n",
       "4  RESIDENCE PORCH/HALLWAY   False      True   214       2.0   NaN  41.819538   \n",
       "\n",
       "   Longitude  \n",
       "0 -87.749185  \n",
       "1 -87.684841  \n",
       "2 -87.611970  \n",
       "3 -87.678032  \n",
       "4 -87.620020  "
      ]
     },
     "execution_count": 4,
     "metadata": {},
     "output_type": "execute_result"
    }
   ],
   "source": [
    "# Use read_csv in a list comprehension and combine with concat to load all files\n",
    "df = pd.concat([pd.read_csv(f) for f in crime_files])\n",
    "df.reset_index()\n",
    "df.info()\n",
    "df.head()"
   ]
  },
  {
   "cell_type": "code",
   "execution_count": 5,
   "id": "8c1d0d77-f822-4fa8-bc3a-728675dd1e71",
   "metadata": {},
   "outputs": [],
   "source": [
    "# convert date column to datetime\n",
    "df['Date'] = pd.to_datetime(df['Date'],errors='coerce')"
   ]
  },
  {
   "cell_type": "code",
   "execution_count": 6,
   "id": "0bd99017-a3a0-4bca-93e4-b72a21eabaa4",
   "metadata": {},
   "outputs": [
    {
     "data": {
      "text/plain": [
       "0"
      ]
     },
     "execution_count": 6,
     "metadata": {},
     "output_type": "execute_result"
    }
   ],
   "source": [
    "# check for nulls created in date\n",
    "df['Date'].isna().sum()"
   ]
  },
  {
   "cell_type": "code",
   "execution_count": 7,
   "id": "1a81efeb-5478-4df3-9996-b7b5909d9470",
   "metadata": {},
   "outputs": [],
   "source": [
    "# set date as index\n",
    "df = df.set_index('Date')"
   ]
  },
  {
   "cell_type": "code",
   "execution_count": 10,
   "id": "ea9ac310-c5c5-46d6-bad0-4c4de545219a",
   "metadata": {},
   "outputs": [
    {
     "data": {
      "text/plain": [
       "DatetimeIndex(['2001-01-01 00:00:00', '2001-01-01 00:00:00',\n",
       "               '2001-01-01 00:00:00', '2001-01-01 00:00:00',\n",
       "               '2001-01-01 00:00:00', '2001-01-01 00:00:00',\n",
       "               '2001-01-01 00:00:00', '2001-01-01 00:00:00',\n",
       "               '2001-01-01 00:00:00', '2001-01-01 00:00:00',\n",
       "               ...\n",
       "               '2022-12-31 23:45:00', '2022-12-31 23:45:00',\n",
       "               '2022-12-31 23:45:00', '2022-12-31 23:45:00',\n",
       "               '2022-12-31 23:45:00', '2022-12-31 23:47:00',\n",
       "               '2022-12-31 23:47:00', '2022-12-31 23:50:00',\n",
       "               '2022-12-31 23:50:00', '2022-12-31 23:55:00'],\n",
       "              dtype='datetime64[ns]', name='Date', length=7713109, freq=None)"
      ]
     },
     "execution_count": 10,
     "metadata": {},
     "output_type": "execute_result"
    }
   ],
   "source": [
    "df = df.sort_index()\n",
    "df.index"
   ]
  },
  {
   "cell_type": "code",
   "execution_count": 11,
   "id": "4ebf15c3-7ac8-4261-aec0-27650218e89b",
   "metadata": {},
   "outputs": [],
   "source": [
    "df.to_csv('Data/Combined_Chicago_Crime.csv')"
   ]
  },
  {
   "cell_type": "markdown",
   "id": "42011767-4183-4b4f-a6a4-7e389e6e4d20",
   "metadata": {},
   "source": [
    "# **1) Comparing Police Districts**\r\n",
    "  - Which district had the most crimes in 2022?\r\n",
    "  - Which had the least?"
   ]
  },
  {
   "cell_type": "code",
   "execution_count": null,
   "id": "5010c2b7-600f-47d0-b24e-d79092e940f6",
   "metadata": {},
   "outputs": [],
   "source": []
  }
 ],
 "metadata": {
  "kernelspec": {
   "display_name": "Python (dojo-env)",
   "language": "python",
   "name": "dojo-env"
  },
  "language_info": {
   "codemirror_mode": {
    "name": "ipython",
    "version": 3
   },
   "file_extension": ".py",
   "mimetype": "text/x-python",
   "name": "python",
   "nbconvert_exporter": "python",
   "pygments_lexer": "ipython3",
   "version": "3.10.10"
  },
  "widgets": {
   "application/vnd.jupyter.widget-state+json": {
    "state": {},
    "version_major": 2,
    "version_minor": 0
   }
  }
 },
 "nbformat": 4,
 "nbformat_minor": 5
}
